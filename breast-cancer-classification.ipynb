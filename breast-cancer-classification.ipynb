{
 "cells": [
  {
   "cell_type": "code",
   "execution_count": 6,
   "metadata": {
    "ExecuteTime": {
     "end_time": "2021-07-24T12:12:51.070459Z",
     "start_time": "2021-07-24T12:12:49.921809Z"
    }
   },
   "outputs": [],
   "source": [
    "# 导入 pandas 与 numpy 工具包\n",
    "import pandas as pd\n",
    "import numpy as np\n",
    "\n",
    "# 创建特征列表\n",
    "column_names = [\n",
    "    'Sample code number', 'Clump Thickness', 'Uniformity of Cell Size',\n",
    "    'Uniformity of Cell Shape', 'Marginal Adhesion',\n",
    "    'Single Epithelial Cell Size', 'Bare Nuclei', 'Bland Chromatin',\n",
    "    'Normal Nucleoli', 'Mitoses', 'Class'\n",
    "]\n",
    "\n",
    "# 使用 pandas.read_csv 函数从互联网读取指定数据\n",
    "data = pd.read_csv(\n",
    "    'https://archive.ics.uci.edu/ml/machine-learning-databases/breast-cancer-wisconsin/breast-cancer-wisconsin.data',\n",
    "    names=column_names)"
   ]
  },
  {
   "cell_type": "code",
   "execution_count": 7,
   "metadata": {
    "ExecuteTime": {
     "end_time": "2021-07-24T12:13:19.834901Z",
     "start_time": "2021-07-24T12:13:19.683259Z"
    }
   },
   "outputs": [
    {
     "data": {
      "text/plain": [
       "(683, 11)"
      ]
     },
     "execution_count": 7,
     "metadata": {},
     "output_type": "execute_result"
    }
   ],
   "source": [
    "# 处理缺失值，将“ ? ”替换为标准缺失值，并丢弃带有缺失值的数据。\n",
    "\n",
    "# 将 ? 替换为标准缺失值符号表示\n",
    "data = data.replace(to_replace='?', value=np.nan)\n",
    "# 丢弃带有缺失值的数据（只要有一个维度有缺失）\n",
    "data = data.dropna(how='any')\n",
    "\n",
    "# 查看数据形状。\n",
    "\n",
    "# 输出 data 的数据量和维度。\n",
    "data.shape"
   ]
  },
  {
   "cell_type": "code",
   "execution_count": 8,
   "metadata": {
    "ExecuteTime": {
     "end_time": "2021-07-24T12:13:33.889571Z",
     "start_time": "2021-07-24T12:13:31.829746Z"
    }
   },
   "outputs": [],
   "source": [
    "# 使用 sklearn.cross_valiation 里的train_test_split 模块用于分割数据。\n",
    "from sklearn.model_selection import train_test_split\n",
    "\n",
    "# 随机采样 25% 的数据用于测试，剩下的 75% 用于构建训练集合。\n",
    "X_train, X_test, y_train, y_test = train_test_split(data[column_names[1:10]],\n",
    "                                                    data[column_names[10]],\n",
    "                                                    test_size=0.25,\n",
    "                                                    random_state=33)"
   ]
  },
  {
   "cell_type": "code",
   "execution_count": 9,
   "metadata": {
    "ExecuteTime": {
     "end_time": "2021-07-24T12:13:41.722097Z",
     "start_time": "2021-07-24T12:13:41.547082Z"
    }
   },
   "outputs": [],
   "source": [
    "# 从 sklearn.preprocessing 里导入 StandardScaler\n",
    "from sklearn.preprocessing import StandardScaler\n",
    "# 从 sklearn.linear_model 里导入 LogisticRegression 与 SGDClassifier。\n",
    "from sklearn.linear_model import LogisticRegression\n",
    "from sklearn.linear_model import SGDClassifier\n",
    "\n",
    "# 标准化数据，保证每个维度的特征数据方差为 1 ，均值为 0 。使得预测结果不会被某些维度过大的特征值而主导。\n",
    "ss = StandardScaler()\n",
    "X_train = ss.fit_transform(X_train)\n",
    "X_test = ss.transform(X_test)"
   ]
  },
  {
   "cell_type": "code",
   "execution_count": 10,
   "metadata": {
    "ExecuteTime": {
     "end_time": "2021-07-24T12:14:16.362274Z",
     "start_time": "2021-07-24T12:14:16.197741Z"
    }
   },
   "outputs": [],
   "source": [
    "# 分别使用 Logistic 回归建立模型，代码如下：\n",
    "\n",
    "# 初始化 LogisticRegression \n",
    "lr = LogisticRegression()\n",
    "\n",
    "\n",
    "# 调用 LogisticRegression 中的 fit 函数/模块用来训练模型参数\n",
    "lr.fit(X_train, y_train)\n",
    "\n",
    "# 使用训练好的模型 lr 对 X_test 进行预测，结果储存在变量 lr_y_predict 中。\n",
    "lr_y_predict = lr.predict(X_test)"
   ]
  },
  {
   "cell_type": "code",
   "execution_count": 11,
   "metadata": {
    "ExecuteTime": {
     "end_time": "2021-07-24T12:14:28.069098Z",
     "start_time": "2021-07-24T12:14:28.047189Z"
    }
   },
   "outputs": [
    {
     "name": "stdout",
     "output_type": "stream",
     "text": [
      "Accuracy of LR Classifier: 0.9883040935672515\n",
      "              precision    recall  f1-score   support\n",
      "\n",
      "      Benign       0.99      0.99      0.99       100\n",
      "   Malignant       0.99      0.99      0.99        71\n",
      "\n",
      "    accuracy                           0.99       171\n",
      "   macro avg       0.99      0.99      0.99       171\n",
      "weighted avg       0.99      0.99      0.99       171\n",
      "\n"
     ]
    }
   ],
   "source": [
    "# 从 sklearn.metrics 里导入 classification_report 模块\n",
    "from sklearn.metrics import classification_report\n",
    "\n",
    "# 使用逻辑斯蒂回归模型自带的评分函数 score 获得模型在测试集上的准确性结果\n",
    "print ('Accuracy of LR Classifier:', lr.score(X_test, y_test))\n",
    "# 利用 classification_report 模块获得 LogisticRegression 其他三个指标的结果\n",
    "print (classification_report(y_test, lr_y_predict, target_names=['Benign', 'Malignant']))"
   ]
  },
  {
   "cell_type": "code",
   "execution_count": null,
   "metadata": {},
   "outputs": [],
   "source": []
  }
 ],
 "metadata": {
  "kernelspec": {
   "display_name": "Python 3",
   "language": "python",
   "name": "python3"
  },
  "language_info": {
   "codemirror_mode": {
    "name": "ipython",
    "version": 3
   },
   "file_extension": ".py",
   "mimetype": "text/x-python",
   "name": "python",
   "nbconvert_exporter": "python",
   "pygments_lexer": "ipython3",
   "version": "3.7.6"
  },
  "varInspector": {
   "cols": {
    "lenName": 16,
    "lenType": 16,
    "lenVar": 40
   },
   "kernels_config": {
    "python": {
     "delete_cmd_postfix": "",
     "delete_cmd_prefix": "del ",
     "library": "var_list.py",
     "varRefreshCmd": "print(var_dic_list())"
    },
    "r": {
     "delete_cmd_postfix": ") ",
     "delete_cmd_prefix": "rm(",
     "library": "var_list.r",
     "varRefreshCmd": "cat(var_dic_list()) "
    }
   },
   "types_to_exclude": [
    "module",
    "function",
    "builtin_function_or_method",
    "instance",
    "_Feature"
   ],
   "window_display": false
  }
 },
 "nbformat": 4,
 "nbformat_minor": 4
}
